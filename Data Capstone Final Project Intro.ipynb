{
 "cells": [
  {
   "cell_type": "markdown",
   "metadata": {},
   "source": [
    "## Clustering the most visited cities around the world"
   ]
  },
  {
   "cell_type": "markdown",
   "metadata": {},
   "source": [
    "### Introduction"
   ]
  },
  {
   "cell_type": "markdown",
   "metadata": {},
   "source": [
    "The purpose of this notebook is to analyse the most visited cities in the world and cluster them based on popular venues in each city.  We can use this analysis to determine the similarity of these cities to one another.  We can then look at the most visited regions and see if these also have similar characteristics in terms of popular venues."
   ]
  },
  {
   "cell_type": "markdown",
   "metadata": {},
   "source": [
    "### 1.  Data used"
   ]
  },
  {
   "cell_type": "markdown",
   "metadata": {},
   "source": [
    "### 1.1  Wikipedia Data Scraping"
   ]
  },
  {
   "cell_type": "markdown",
   "metadata": {},
   "source": [
    "\n",
    "This Wikipedia page is used to determine the countries around the world with the most international visitors:  https://en.wikipedia.org/wiki/List_of_cities_by_international_visitors \n",
    "\n",
    "![citiestable](mostvisitedcountries.png)"
   ]
  },
  {
   "cell_type": "markdown",
   "metadata": {},
   "source": [
    "### 1.2  Foursquare data"
   ]
  },
  {
   "cell_type": "markdown",
   "metadata": {},
   "source": [
    "The Foursquare API will be used to extract the most most popular venues for each city.  Use will be made of the \"explore\" endpoint to return data per city: https://api.foursquare.com/v2/venues/explore"
   ]
  },
  {
   "cell_type": "markdown",
   "metadata": {},
   "source": [
    "![exampleendpoint](exampleendpointresponse.png)"
   ]
  },
  {
   "cell_type": "code",
   "execution_count": null,
   "metadata": {},
   "outputs": [],
   "source": []
  }
 ],
 "metadata": {
  "kernelspec": {
   "display_name": "Python 3",
   "language": "python",
   "name": "python3"
  },
  "language_info": {
   "codemirror_mode": {
    "name": "ipython",
    "version": 3
   },
   "file_extension": ".py",
   "mimetype": "text/x-python",
   "name": "python",
   "nbconvert_exporter": "python",
   "pygments_lexer": "ipython3",
   "version": "3.7.4"
  }
 },
 "nbformat": 4,
 "nbformat_minor": 2
}
